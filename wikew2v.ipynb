{
 "cells": [
  {
   "cell_type": "code",
   "execution_count": 1,
   "metadata": {},
   "outputs": [],
   "source": [
    "%matplotlib inline\n",
    "import matplotlib.pyplot as plt\n",
    "plt.rcParams[\"figure.figsize\"] = 20, 10"
   ]
  },
  {
   "cell_type": "code",
   "execution_count": 2,
   "metadata": {},
   "outputs": [],
   "source": [
    "from wikipedia2vec import Wikipedia2Vec"
   ]
  },
  {
   "cell_type": "code",
   "execution_count": 3,
   "metadata": {},
   "outputs": [
    {
     "name": "stderr",
     "output_type": "stream",
     "text": [
      "Intel(R) Data Analytics Acceleration Library (Intel(R) DAAL) solvers for sklearn enabled: https://intelpython.github.io/daal4py/sklearn.html\n"
     ]
    }
   ],
   "source": [
    "from naive_bayes_classifier.configure import STOP_CHARS\n",
    "from utils import *\n",
    "from back_test import *"
   ]
  },
  {
   "cell_type": "code",
   "execution_count": 4,
   "metadata": {},
   "outputs": [],
   "source": [
    "from sklearn.ensemble import *"
   ]
  },
  {
   "cell_type": "code",
   "execution_count": 5,
   "metadata": {},
   "outputs": [],
   "source": [
    "import pickle\n",
    "import pandas as pd\n",
    "import numpy as np\n",
    "from tqdm import tqdm"
   ]
  },
  {
   "cell_type": "code",
   "execution_count": 6,
   "metadata": {},
   "outputs": [],
   "source": [
    "from sklearn.metrics import precision_score, f1_score, accuracy_score, recall_score"
   ]
  },
  {
   "cell_type": "code",
   "execution_count": 7,
   "metadata": {},
   "outputs": [],
   "source": [
    "w2v_model = Wikipedia2Vec.load(\"../enwiki_20180420_win10_500d.pkl\")"
   ]
  },
  {
   "cell_type": "code",
   "execution_count": 8,
   "metadata": {},
   "outputs": [],
   "source": [
    "rate_se, rst_lst = load_data()"
   ]
  },
  {
   "cell_type": "code",
   "execution_count": 9,
   "metadata": {},
   "outputs": [
    {
     "name": "stderr",
     "output_type": "stream",
     "text": [
      "C:\\Users\\hoore\\Documents\\workspace\\nlp\\nlp_project\\utils.py:33: RuntimeWarning: divide by zero encountered in log\n",
      "  tt = np.log(np.hstack((prev, rev)) / this)\n",
      "C:\\Users\\hoore\\Documents\\workspace\\nlp\\nlp_project\\utils.py:33: RuntimeWarning: invalid value encountered in log\n",
      "  tt = np.log(np.hstack((prev, rev)) / this)\n",
      "C:\\Users\\hoore\\Documents\\workspace\\nlp\\nlp_project\\utils.py:33: RuntimeWarning: divide by zero encountered in true_divide\n",
      "  tt = np.log(np.hstack((prev, rev)) / this)\n",
      "C:\\Users\\hoore\\Documents\\workspace\\nlp\\nlp_project\\utils.py:33: RuntimeWarning: invalid value encountered in true_divide\n",
      "  tt = np.log(np.hstack((prev, rev)) / this)\n"
     ]
    }
   ],
   "source": [
    "rev_ar = np.vstack(get_reval(rst_lst, rate_se))"
   ]
  },
  {
   "cell_type": "code",
   "execution_count": 10,
   "metadata": {},
   "outputs": [
    {
     "name": "stderr",
     "output_type": "stream",
     "text": [
      "100%|█████████████████████████████████████████████████████████| 774/774 [00:53<00:00, 14.49it/s]\n"
     ]
    }
   ],
   "source": [
    "vec_lst = []\n",
    "for itm in tqdm(rst_lst):\n",
    "    txt = itm[2].lower()\n",
    "    \n",
    "    for c in STOP_CHARS:\n",
    "        txt = txt.replace(c, \"\")\n",
    "    \n",
    "    wd_lst = txt.split(\" \")\n",
    "    \n",
    "    vec = np.zeros((500,))\n",
    "    for wd in wd_lst:\n",
    "        try:\n",
    "            vec += w2v_model.get_word_vector(wd)\n",
    "        except KeyError:\n",
    "            pass\n",
    "    \n",
    "    vec_lst.append(vec)"
   ]
  },
  {
   "cell_type": "code",
   "execution_count": 11,
   "metadata": {},
   "outputs": [],
   "source": [
    "X = np.vstack(vec_lst)"
   ]
  },
  {
   "cell_type": "code",
   "execution_count": 12,
   "metadata": {},
   "outputs": [],
   "source": [
    "y = get_y(rev_ar, 1, 0.3)"
   ]
  },
  {
   "cell_type": "code",
   "execution_count": 13,
   "metadata": {},
   "outputs": [
    {
     "data": {
      "text/plain": [
       "(774,)"
      ]
     },
     "execution_count": 13,
     "metadata": {},
     "output_type": "execute_result"
    }
   ],
   "source": [
    "y.shape"
   ]
  },
  {
   "cell_type": "code",
   "execution_count": 14,
   "metadata": {},
   "outputs": [
    {
     "data": {
      "text/plain": [
       "(774, 500)"
      ]
     },
     "execution_count": 14,
     "metadata": {},
     "output_type": "execute_result"
    }
   ],
   "source": [
    "X.shape"
   ]
  },
  {
   "cell_type": "code",
   "execution_count": 15,
   "metadata": {},
   "outputs": [],
   "source": [
    "y_pred4 = rolling_test_single(ExtraTreesClassifier(n_estimators=50, n_jobs=-1), X, y, 300)"
   ]
  },
  {
   "cell_type": "code",
   "execution_count": 16,
   "metadata": {},
   "outputs": [
    {
     "name": "stdout",
     "output_type": "stream",
     "text": [
      "acuracy: 0.46382428940568476\n",
      "    precision: 0.46382428940568476\n",
      "    recall: 0.46382428940568476\n",
      "    f1: 0.46382428940568476\n"
     ]
    }
   ],
   "source": [
    "evaluate(y, y_pred4)"
   ]
  },
  {
   "cell_type": "code",
   "execution_count": 17,
   "metadata": {},
   "outputs": [],
   "source": [
    "prd_count = 1"
   ]
  },
  {
   "cell_type": "code",
   "execution_count": 18,
   "metadata": {},
   "outputs": [
    {
     "data": {
      "text/plain": [
       "[<matplotlib.lines.Line2D at 0x150af924748>]"
      ]
     },
     "execution_count": 18,
     "metadata": {},
     "output_type": "execute_result"
    },
    {
     "data": {
      "image/png": "[encoded data removed]",
      "text/plain": [
       "<Figure size 1440x720 with 1 Axes>"
      ]
     },
     "metadata": {},
     "output_type": "display_data"
    }
   ],
   "source": [
    "plt.plot(np.cumsum((rev_ar[:, 10 + prd_count] - rev_ar[:, 9 + prd_count]) * y_pred4))"
   ]
  }
 ],
 "metadata": {
  "kernelspec": {
   "display_name": "Python 3",
   "language": "python",
   "name": "python3"
  },
  "language_info": {
   "codemirror_mode": {
    "name": "ipython",
    "version": 3
   },
   "file_extension": ".py",
   "mimetype": "text/x-python",
   "name": "python",
   "nbconvert_exporter": "python",
   "pygments_lexer": "ipython3",
   "version": "3.6.9"
  }
 },
 "nbformat": 4,
 "nbformat_minor": 4
}
